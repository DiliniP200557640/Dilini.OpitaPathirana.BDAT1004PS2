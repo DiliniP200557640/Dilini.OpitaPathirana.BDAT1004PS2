{
 "cells": [
  {
   "cell_type": "markdown",
   "id": "59d23443",
   "metadata": {},
   "source": [
    "# Question 1\n"
   ]
  },
  {
   "cell_type": "markdown",
   "id": "69d0baae",
   "metadata": {},
   "source": [
    "Consider the following Python module:\n",
    "a = 0 \n",
    "def b():\n",
    "global a\n",
    "a = c(a)\n",
    "def c(a):\n",
    "return a + 2\n",
    "After importing the module into the interpreter, you execute:\n",
    "\n",
    "    >>> b()\n",
    "    >>> b()\n",
    "    >>> b()\n",
    "\n",
    "    >>> a\n",
    "\n",
    "?\n",
    "\n",
    "What value is displayed when the last expression (a) is evaluated? Explain your answer by indicating what happens in every executed statement."
   ]
  },
  {
   "cell_type": "code",
   "execution_count": 4,
   "id": "80f0936a",
   "metadata": {},
   "outputs": [
    {
     "name": "stdout",
     "output_type": "stream",
     "text": [
      "None\n",
      "None\n",
      "None\n",
      "6\n"
     ]
    }
   ],
   "source": [
    "a=0\n",
    "\n",
    "def b():\n",
    "    global a\n",
    "    a = c(a)\n",
    "    \n",
    "\n",
    "def c(a):\n",
    "    return a + 2\n",
    "\n",
    "print(b())\n",
    "print(b())\n",
    "print(b())\n",
    "print(a)"
   ]
  },
  {
   "cell_type": "markdown",
   "id": "7d32d430",
   "metadata": {},
   "source": [
    "1.) The variable 'a' is initialized to 0.\n",
    "\n",
    "2.) The function b is defined, which uses the global variable 'a' and calls the function c(a) and assigns the return value to global 'a'.\n",
    "\n",
    "3.) The function c is defined which takes a parameter 'a' and returns a+2.\n",
    "\n",
    "4.) When function b is called first time, it uses the global a (which is 0) as an argument to the function c(a). So, c(0) is called, and it returns 0 + 2, which is 2. Therefore, when b() is called, the global variable a is updated to 2.\n",
    "\n",
    "5.) When function b is called second time, it uses the global a (which is 2) as an argument to the function c(a). So, c(2) is called, and it returns 2 + 2, which is 4. Therefore, when b() is called, the global variable a is updated to 4.\n",
    "\n",
    "6.) When function b is called third time, it uses the global a (which is 4) as an argument to the function c(a). So, c(4) is called, and it returns 4 + 2, which is 6. Therefore, when b() is called, the global variable a is updated to 6.\n",
    "\n",
    "7.) Finally at the end of 3 function calls of b(), value of global variable 'a' will be 6. "
   ]
  },
  {
   "cell_type": "markdown",
   "id": "8c4c0185",
   "metadata": {},
   "source": [
    "# Question 2"
   ]
  },
  {
   "cell_type": "markdown",
   "id": "81898223",
   "metadata": {},
   "source": [
    "Function fileLength(), given to you, takes the name of a file as input and returns \n",
    "the length of the file:\n"
   ]
  },
  {
   "cell_type": "markdown",
   "id": "3b171149",
   "metadata": {},
   "source": [
    "    >>> fileLength('midterm.py') \n",
    "    284\n",
    "    >>> fileLength('idterm.py') \n",
    "    \n",
    "Traceback (most recent call last):\n",
    "\n",
    "File \"<pyshell#34>\", line 1, in <module> \n",
    "    \n",
    "fileLength('idterm.py')\n",
    "    \n",
    "File \"/Users/me/midterm.py\", line 3, in fileLength \n",
    "    \n",
    "infile = open(filename)\n",
    "    \n",
    "FileNotFoundError: [Errno 2] No such file or directory: 'idterm.py'\n",
    "    \n",
    "As shown above, if the file cannot be found by the interpreter or if it cannot be read \n",
    "as a text file, an exception will be raised. Modify function fileLength() so that a \n",
    "friendly message is printed instead:\n",
    "    \n",
    "    >>> fileLength('midterm.py') \n",
    "    358\n",
    "    >>> fileLength('idterm.py') \n",
    "    File idterm.py not found."
   ]
  },
  {
   "cell_type": "code",
   "execution_count": 5,
   "id": "7ea9ce7b",
   "metadata": {},
   "outputs": [],
   "source": [
    "def fileLength(file_name):\n",
    "    try:\n",
    "        file = open(file_name)\n",
    "        contents = file.read()\n",
    "        file.close()\n",
    "        print(len(contents))\n",
    "    except:\n",
    "        # Once the exception is raised, it will print a friendly message   \n",
    "        msg = \"File \"+ file_name + \" not found.\"\n",
    "        print(msg)\n",
    "    "
   ]
  },
  {
   "cell_type": "code",
   "execution_count": 6,
   "id": "1e18e6cc",
   "metadata": {},
   "outputs": [
    {
     "name": "stdout",
     "output_type": "stream",
     "text": [
      "123\n"
     ]
    }
   ],
   "source": [
    "fileLength('Filelength.txt')"
   ]
  },
  {
   "cell_type": "code",
   "execution_count": 7,
   "id": "0837ee63",
   "metadata": {},
   "outputs": [
    {
     "name": "stdout",
     "output_type": "stream",
     "text": [
      "File idterm.py not found.\n"
     ]
    }
   ],
   "source": [
    "fileLength('idterm.py')"
   ]
  },
  {
   "cell_type": "markdown",
   "id": "4fb9c28f",
   "metadata": {},
   "source": [
    "# Question 3\n"
   ]
  },
  {
   "cell_type": "markdown",
   "id": "b91db1db",
   "metadata": {},
   "source": [
    "Write a class named Marsupial that can be used as shown below:\n",
    "\n",
    "    >>> m = Marsupial()\n",
    "    >>> m.put_in_pouch('doll')\n",
    "    >>> m.put_in_pouch('firetruck')\n",
    "    >>> m.put_in_pouch('kitten')\n",
    "    >>> m.pouch_contents() \n",
    "    \n",
    "['doll', 'firetruck', 'kitten']"
   ]
  },
  {
   "cell_type": "code",
   "execution_count": 8,
   "id": "d3472d6d",
   "metadata": {},
   "outputs": [
    {
     "name": "stdout",
     "output_type": "stream",
     "text": [
      "['doll', 'firetruck', 'kitten']\n"
     ]
    }
   ],
   "source": [
    "class Marsupial:\n",
    "\n",
    "    def __init__(self):\n",
    "        self.content_list = []\n",
    "        self.content_list.clear()\n",
    "\n",
    "    def put_in_pouch(self, value):\n",
    "        self.content_list.append(value)\n",
    "\n",
    "    def pouch_contents(self):\n",
    "        return self.content_list\n",
    "    \n",
    "m = Marsupial()\n",
    "m.put_in_pouch('doll')\n",
    "m.put_in_pouch('firetruck')\n",
    "m.put_in_pouch('kitten')\n",
    "print(m.pouch_contents())"
   ]
  },
  {
   "cell_type": "markdown",
   "id": "1391314e",
   "metadata": {},
   "source": [
    "Now write a class named Kangaroo as a subclass of Marsupial that inherits all the \n",
    "attributes of Marsupial and also:\n",
    "\n",
    "a. extends the Marsupial __init__ constructor to take, as input, the\n",
    "coordinates x and y of the Kangaroo object,\n",
    "\n",
    "b. supports method jump that takes number values dx and dy as input and \n",
    "movesthe kangaroo by dx units along the x-axis and by dy units along the y-axis, and\n",
    "\n",
    "c. overloads the __str__ operator so it behaves as shown below.\n",
    "\n",
    "    >>> k = Kangaroo(0,0)\n",
    "    >>> print(k)\n",
    "    I am a Kangaroo located at coordinates (0,0)\n",
    "    >>> k.put_in_pouch('doll')\n",
    "    >>> k.put_in_pouch('firetruck')\n",
    "    >>> k.put_in_pouch('kitten')\n",
    "    >>> k.pouch_contents() \n",
    "    ['doll', 'firetruck', 'kitten']\n",
    "    >>> k.jump(1,0)\n",
    "    >>> k.jump(1,0)\n",
    "    >>> k.jump(1,0)\n",
    "    >>> print(k)\n",
    "    \n",
    "I am a Kangaroo located at coordinates (3,0)"
   ]
  },
  {
   "cell_type": "code",
   "execution_count": 9,
   "id": "0dbe5689",
   "metadata": {},
   "outputs": [],
   "source": [
    "class Kangaroo(Marsupial):\n",
    "    def __init__(self, x, y):\n",
    "        super().__init__()\n",
    "        self.x = x\n",
    "        self.y = y\n",
    "\n",
    "    def jump(self, dx, dy):\n",
    "        self.x += dx\n",
    "        self.y += dy\n",
    "\n",
    "    def __str__(self):\n",
    "        return f\"I am a Kangaroo located at coordinates ({self.x},{self.y})\"\n"
   ]
  },
  {
   "cell_type": "code",
   "execution_count": 10,
   "id": "3218ba19",
   "metadata": {},
   "outputs": [
    {
     "name": "stdout",
     "output_type": "stream",
     "text": [
      "I am a Kangaroo located at coordinates (0,0)\n"
     ]
    }
   ],
   "source": [
    "k = Kangaroo(0,0)\n",
    "print(k)\n"
   ]
  },
  {
   "cell_type": "code",
   "execution_count": 11,
   "id": "cbbb69ac",
   "metadata": {},
   "outputs": [
    {
     "name": "stdout",
     "output_type": "stream",
     "text": [
      "['doll', 'firetruck', 'kitten']\n"
     ]
    }
   ],
   "source": [
    "k.put_in_pouch('doll')\n",
    "k.put_in_pouch('firetruck')\n",
    "k.put_in_pouch('kitten')\n",
    "print(k.pouch_contents())\n"
   ]
  },
  {
   "cell_type": "code",
   "execution_count": 12,
   "id": "69a515e6",
   "metadata": {},
   "outputs": [
    {
     "name": "stdout",
     "output_type": "stream",
     "text": [
      "I am a Kangaroo located at coordinates (3,0)\n"
     ]
    }
   ],
   "source": [
    "k.jump(1,0)\n",
    "k.jump(1,0)\n",
    "k.jump(1,0)\n",
    "print(k)"
   ]
  },
  {
   "cell_type": "markdown",
   "id": "fc7b8ab3",
   "metadata": {},
   "source": [
    "# Question 4"
   ]
  },
  {
   "cell_type": "markdown",
   "id": "102b9824",
   "metadata": {},
   "source": [
    "Write function collatz() that takes a positive integer x as input and prints the \n",
    "Collatz sequence starting at x. A Collatz sequence is obtained by repeatedly applying \n",
    "this rule to the previous number x in the sequence:\n",
    "\n",
    "\n",
    "        𝑥/2 𝑖𝑓 𝑥 𝑖𝑠 𝑒𝑣𝑒𝑛\n",
    "x= {\n",
    "        \n",
    "        3𝑥+1 𝑖𝑓 𝑥 𝑖𝑠 𝑜𝑑𝑑\n",
    "\n",
    "Your function should stop when the sequence gets to number 1. Your \n",
    "implementation must be recursive, without any loops.\n",
    "\n",
    "    >>> collatz(1) \n",
    "    1\n",
    "    >>> collatz(10) \n",
    "    10\n",
    "    5\n",
    "    16\n",
    "    8\n",
    "    4\n",
    "    2\n",
    "    1"
   ]
  },
  {
   "cell_type": "code",
   "execution_count": 13,
   "id": "acb56823",
   "metadata": {},
   "outputs": [],
   "source": [
    "def collatz(x):\n",
    "    print(x)\n",
    "    if x == 1:  #if x equals to 1\n",
    "        return\n",
    "    elif x % 2 == 0: # if x is even\n",
    "        collatz(x // 2)\n",
    "    else: # if x is odd\n",
    "        collatz(3 * x + 1)"
   ]
  },
  {
   "cell_type": "code",
   "execution_count": 14,
   "id": "5e447362",
   "metadata": {},
   "outputs": [
    {
     "name": "stdout",
     "output_type": "stream",
     "text": [
      "1\n"
     ]
    }
   ],
   "source": [
    "collatz(1)"
   ]
  },
  {
   "cell_type": "code",
   "execution_count": 15,
   "id": "d73180a8",
   "metadata": {},
   "outputs": [
    {
     "name": "stdout",
     "output_type": "stream",
     "text": [
      "10\n",
      "5\n",
      "16\n",
      "8\n",
      "4\n",
      "2\n",
      "1\n"
     ]
    }
   ],
   "source": [
    "collatz(10)"
   ]
  },
  {
   "cell_type": "markdown",
   "id": "467799fe",
   "metadata": {},
   "source": [
    "# Question 5"
   ]
  },
  {
   "cell_type": "markdown",
   "id": "07da05e0",
   "metadata": {},
   "source": [
    "Write a recursive method binary() that takes a non-negative \n",
    "integer n and prints the binary representation of integer n.\n",
    "\n",
    "    >>> binary(0)\n",
    "    0\n",
    "    >>> binary(1)\n",
    "    1\n",
    "    >>> binary(3) \n",
    "    11\n",
    "    >>> binary(9) \n",
    "    1001"
   ]
  },
  {
   "cell_type": "code",
   "execution_count": 16,
   "id": "286ec0bb",
   "metadata": {},
   "outputs": [],
   "source": [
    "def binary(n):\n",
    "    if n > 0: # if n is a positive integer\n",
    "        binary(n // 2)\n",
    "        print(n % 2, end='')\n",
    "    elif n == 0:  # if n equals to 0\n",
    "        return 0\n",
    "    else: # if n is a negative integer \n",
    "        print(\"Please enter a non-negative integer\")"
   ]
  },
  {
   "cell_type": "code",
   "execution_count": 17,
   "id": "244e8637",
   "metadata": {},
   "outputs": [
    {
     "data": {
      "text/plain": [
       "0"
      ]
     },
     "execution_count": 17,
     "metadata": {},
     "output_type": "execute_result"
    }
   ],
   "source": [
    "binary(0)"
   ]
  },
  {
   "cell_type": "code",
   "execution_count": 18,
   "id": "e069ffa9",
   "metadata": {},
   "outputs": [
    {
     "name": "stdout",
     "output_type": "stream",
     "text": [
      "1"
     ]
    }
   ],
   "source": [
    "binary(1)"
   ]
  },
  {
   "cell_type": "code",
   "execution_count": 19,
   "id": "d1d85f7c",
   "metadata": {},
   "outputs": [
    {
     "name": "stdout",
     "output_type": "stream",
     "text": [
      "11"
     ]
    }
   ],
   "source": [
    "binary(3)"
   ]
  },
  {
   "cell_type": "code",
   "execution_count": 20,
   "id": "a177959e",
   "metadata": {},
   "outputs": [
    {
     "name": "stdout",
     "output_type": "stream",
     "text": [
      "1001"
     ]
    }
   ],
   "source": [
    "binary(9)"
   ]
  },
  {
   "cell_type": "markdown",
   "id": "940d6b3c",
   "metadata": {},
   "source": [
    "# Question 6"
   ]
  },
  {
   "cell_type": "markdown",
   "id": "9448da4c",
   "metadata": {},
   "source": [
    "Implement a class named HeadingParser that can be used to parse an HTML document, and retrieve and print all the headings in the document. You should implement your class as a subclass of HTMLParser, defined in Standard Library module html.parser. When fed a string containing HTML code, your class should print the headings, one per line and in the order in which they appear in the \n",
    "document.Each heading should be indented asfollows: an h1 heading should have indentation 0, and h2 heading should have indentation 1, etc. Test your implementation using w3c.html.\n",
    "\n",
    "    >>> infile = open('w3c.html')\n",
    "    >>> content = infile.read()\n",
    "    >>> infile.close()\n",
    "    >>> hp = HeadingParser()\n",
    "    >>> hp.feed(content) \n",
    "    W3C Mission \n",
    "    Principles"
   ]
  },
  {
   "cell_type": "code",
   "execution_count": 21,
   "id": "1cfab9c3",
   "metadata": {},
   "outputs": [],
   "source": [
    "from html.parser import HTMLParser\n",
    "\n",
    "\n",
    "class HeadingParser(HTMLParser):\n",
    "    def __init__(self):\n",
    "        super().__init__()\n",
    "        self.indent = 0\n",
    "        self.heading_flag = False\n",
    "\n",
    "    # to handle start of the tag\n",
    "    def handle_starttag(self, tag, attrs):\n",
    "        #check if the tag is a heading tag\n",
    "        if tag.startswith('h') and len(tag) == 2 and tag[1].isdigit():\n",
    "            self.indent = int(tag[1]) - 1   #indent as per the heading level\n",
    "            self.heading_flag = True   # set the flag true to indicate the parser is within the heading tag\n",
    "\n",
    "    # to handle end of the tag\n",
    "    def handle_endtag(self, tag):\n",
    "        #check if the parser is within the tag and also a heading tag\n",
    "        if self.heading_flag and tag.startswith('h') and len(tag) == 2 and tag[1].isdigit():\n",
    "            self.heading_flag = False  # set the flag true to indicate the parser is no longer within the heading tag\n",
    "            self.indent = 0 # reset indentation \n",
    "\n",
    "    # to handle data within the heading tag\n",
    "    def handle_data(self, data):\n",
    "        # check the flag if it is set to true, if it's within the heading tag\n",
    "        if self.heading_flag:\n",
    "            print('  ' * self.indent + data) #print the data with appropriate indentation"
   ]
  },
  {
   "cell_type": "code",
   "execution_count": 22,
   "id": "6e0aacbe",
   "metadata": {},
   "outputs": [
    {
     "name": "stdout",
     "output_type": "stream",
     "text": [
      "W3C Mission\n",
      "  Principles\n"
     ]
    }
   ],
   "source": [
    "infile = open('w3c.html')\n",
    "content = infile.read()\n",
    "infile.close()\n",
    "hp = HeadingParser()\n",
    "hp.feed(content)"
   ]
  },
  {
   "cell_type": "markdown",
   "id": "09e986de",
   "metadata": {},
   "source": [
    "# Question 7"
   ]
  },
  {
   "cell_type": "markdown",
   "id": "86f5efa8",
   "metadata": {},
   "source": [
    "Implement recursive function webdir() that takes as input: a URL (as a string) and \n",
    "non-negative integers depth and indent. Your function should visit every web \n",
    "page reachable from the starting URL web page in depth clicks or less, and print \n",
    "each web page's URL. As shown below, indentation, specified by indent, should \n",
    "be used to indicate the depth of a URL.\n",
    "\n",
    "    >>>\n",
    "    webdir('http://reed.cs.depaul.edu/lperkovic/csc242/test1.html', 2, 0)\n",
    "    http://reed.cs.depaul.edu/lperkovic/csc242/test1.html\n",
    "        http://reed.cs.depaul.edu/lperkovic/csc242/test2.html\n",
    "            http://reed.cs.depaul.edu/lperkovic/csc242/test4.html\n",
    "        http://reed.cs.depaul.edu/lperkovic/csc242/test3.html\n",
    "            http://reed.cs.depaul.edu/lperkovic/csc242/test4.html"
   ]
  },
  {
   "cell_type": "code",
   "execution_count": 23,
   "id": "3977a749",
   "metadata": {
    "scrolled": true
   },
   "outputs": [
    {
     "name": "stdout",
     "output_type": "stream",
     "text": [
      "http://web.simmons.edu/~grovesd/comm244/notes/week3/html-test-page.html\n",
      "    http://web.simmons.edu/~grovesd/comm244\n",
      "        http://web.simmons.edu/~grovesd/comm244/\n",
      "        http://web.simmons.edu/~grovesd/comm244/week1\n",
      "        http://web.simmons.edu/~grovesd/comm244/week2\n",
      "        http://web.simmons.edu/~grovesd/comm244/week3\n",
      "        http://web.simmons.edu/~grovesd/comm244/week4\n",
      "        http://web.simmons.edu/~grovesd/comm244/week5\n",
      "        http://web.simmons.edu/~grovesd/comm244/week6\n",
      "        http://web.simmons.edu/~grovesd/comm244/week7\n",
      "        http://web.simmons.edu/~grovesd/comm244/week8\n",
      "        http://web.simmons.edu/~grovesd/comm244/week9\n",
      "        http://web.simmons.edu/~grovesd/comm244/week10\n",
      "        http://web.simmons.edu/~grovesd/comm244/week11\n",
      "        http://web.simmons.edu/~grovesd/comm244/week12\n",
      "        http://web.simmons.edu/~grovesd/comm244/week13\n",
      "        http://web.simmons.edu/~grovesd/comm244/recipebook\n",
      "        http://web.simmons.edu/~grovesd/comm244/story\n",
      "        http://web.simmons.edu/~grovesd/comm244/final\n",
      "    http://web.simmons.edu/~grovesd/comm244/week3\n",
      "        http://web.simmons.edu/~grovesd/comm244/\n",
      "        http://validator.w3.org/\n",
      "        http://validator.nu/\n",
      "        https://drive.google.com/file/d/0B6I5Ldm8Lgz-Y2RCNzRVVW1xSlE/view?usp=sharing\n",
      "        https://developer.mozilla.org/en-US/docs/Learn/CSS/Introduction_to_CSS/How_CSS_works\n",
      "        https://developer.mozilla.org/en-US/docs/Learn/CSS/Introduction_to_CSS/Syntax\n",
      "        https://developer.mozilla.org/en-US/docs/Learn/CSS/Introduction_to_CSS/Selectors\n",
      "        https://developer.mozilla.org/en-US/docs/Learn/CSS/Introduction_to_CSS/Simple_selectors\n",
      "        http://www.w3schools.com/css/css_howto.asp\n",
      "        http://www.w3schools.com/css/css_text.asp\n",
      "        http://www.w3schools.com/css/css_list.asp\n",
      "        http://www.w3schools.com/css/css_border.asp\n",
      "        http://www.w3schools.com/css/css_font.asp\n",
      "        https://drive.google.com/file/d/0B6I5Ldm8Lgz-Y2RCNzRVVW1xSlE/view?usp=sharing\n",
      "        http://web.simmons.edu/~grovesd/comm244/week1\n",
      "        http://web.simmons.edu/~grovesd/comm244/week2\n",
      "        http://web.simmons.edu/~grovesd/comm244/week3\n",
      "        http://web.simmons.edu/~grovesd/comm244/week4\n",
      "        http://web.simmons.edu/~grovesd/comm244/week5\n",
      "        http://web.simmons.edu/~grovesd/comm244/week6\n",
      "        http://web.simmons.edu/~grovesd/comm244/week7\n",
      "        http://web.simmons.edu/~grovesd/comm244/week8\n",
      "        http://web.simmons.edu/~grovesd/comm244/week9\n",
      "        http://web.simmons.edu/~grovesd/comm244/week10\n",
      "        http://web.simmons.edu/~grovesd/comm244/week11\n",
      "        http://web.simmons.edu/~grovesd/comm244/week12\n",
      "        http://web.simmons.edu/~grovesd/comm244/week13\n",
      "        http://web.simmons.edu/~grovesd/comm244/recipebook\n",
      "        http://web.simmons.edu/~grovesd/comm244/story\n",
      "        http://web.simmons.edu/~grovesd/comm244/final\n"
     ]
    }
   ],
   "source": [
    "import requests\n",
    "from bs4 import BeautifulSoup, Comment\n",
    "\n",
    "def webdir(url, depth, indent):\n",
    "    if depth < 0 and indent < 0:\n",
    "        return\n",
    "    \n",
    "    print(\"    \" * indent + url) # Print the current URL with appropriate indentation\n",
    "    \n",
    "    try:\n",
    "        response = requests.get(url)\n",
    "        # check if the URL is accessible and depth is greater than 0\n",
    "        if response.status_code == 200 and depth > 0:\n",
    "            soup = BeautifulSoup(response.text, 'html.parser')\n",
    "            links = soup.find_all('a')  # Find all the <a> tags in the page\n",
    "            for link in links:\n",
    "                # to check if the <a> tags are not commented\n",
    "                if not any(isinstance(element, Comment) for element in link.contents):\n",
    "                    new_url = link.get('href')  # Extract the 'href' attribute\n",
    "                    if new_url.startswith('http'):  # Check if it's an absolute URL\n",
    "                        # Recursively call webdir with the new URL, reduced depth, and increased indent\n",
    "                        webdir(new_url, depth - 1, indent + 1)  \n",
    "    except requests.exceptions.RequestException as e:\n",
    "        print(e)\n",
    "\n",
    "\n",
    "webdir('http://web.simmons.edu/~grovesd/comm244/notes/week3/html-test-page.html', 2, 0)"
   ]
  },
  {
   "cell_type": "markdown",
   "id": "e6e958a8",
   "metadata": {},
   "source": [
    "# Question 8\n"
   ]
  },
  {
   "cell_type": "markdown",
   "id": "75ae91da",
   "metadata": {},
   "source": [
    "Write SQL queries on the below database table that return:\n",
    "\n",
    "\n",
    "\n"
   ]
  },
  {
   "cell_type": "code",
   "execution_count": 98,
   "id": "8f92ed4b",
   "metadata": {},
   "outputs": [
    {
     "name": "stdout",
     "output_type": "stream",
     "text": [
      "12 record(s) inserted.\n"
     ]
    }
   ],
   "source": [
    "import sqlite3\n",
    "\n",
    "con = sqlite3.connect('tempData.db')\n",
    "cur = con.cursor()\n",
    "\n",
    "cur.execute(\"CREATE TABLE temperature_data (City, Country, Season, Temperature, Rainfall)\")\n",
    "\n",
    "records = [\n",
    "('Mumbai','India','Winter',24.8,5.9),\n",
    "('Mumbai','India','Spring',28.4,16.2),\n",
    "('Mumbai','India','Summer',27.9,1549.4),\n",
    "('Mumbai','India','Fall',27.6,346.0),\n",
    "('London','United Kingdom','Winter',4.2,207.7),\n",
    "('London','United Kingdom','Spring',8.3,169.6),\n",
    "('London','United Kingdom','Summer',15.7,157.0),\n",
    "('London','United Kingdom','Fall',10.4,218.5),\n",
    "('Cairo','Egypt','Winter',13.6,16.5),\n",
    "('Cairo','Egypt','Spring',20.7,6.5),\n",
    "('Cairo','Egypt','Summer',27.7,0.1),\n",
    "('Cairo','Egypt','Fall',22.2,4.5)\n",
    "]\n",
    "\n",
    "cur.executemany('INSERT INTO temperature_data (City, Country, Season, Temperature, Rainfall) VALUES (?,?,?,?,?);',records);\n",
    "con.commit()\n",
    "print(cur.rowcount, \"record(s) inserted.\")"
   ]
  },
  {
   "cell_type": "markdown",
   "id": "04851bed",
   "metadata": {},
   "source": [
    "a) All the temperature data."
   ]
  },
  {
   "cell_type": "code",
   "execution_count": 99,
   "id": "7247927c",
   "metadata": {},
   "outputs": [
    {
     "name": "stdout",
     "output_type": "stream",
     "text": [
      "24.8\n",
      "28.4\n",
      "27.9\n",
      "27.6\n",
      "4.2\n",
      "8.3\n",
      "15.7\n",
      "10.4\n",
      "13.6\n",
      "20.7\n",
      "27.7\n",
      "22.2\n"
     ]
    }
   ],
   "source": [
    "cur.execute(\"SELECT Temperature FROM temperature_data\")\n",
    "myresult = cur.fetchall()\n",
    "\n",
    "for x in myresult:\n",
    "    print(x[0])"
   ]
  },
  {
   "cell_type": "markdown",
   "id": "a3f9f8eb",
   "metadata": {},
   "source": [
    "b) All the cities, but without repetition.\n",
    "\n"
   ]
  },
  {
   "cell_type": "code",
   "execution_count": 100,
   "id": "229a3dbc",
   "metadata": {},
   "outputs": [
    {
     "name": "stdout",
     "output_type": "stream",
     "text": [
      "Mumbai\n",
      "London\n",
      "Cairo\n"
     ]
    }
   ],
   "source": [
    "cur.execute(\"SELECT distinct City FROM temperature_data\")\n",
    "myresult = cur.fetchall()\n",
    "\n",
    "for x in myresult:\n",
    "    print(x[0])"
   ]
  },
  {
   "cell_type": "markdown",
   "id": "8aefd825",
   "metadata": {},
   "source": [
    "c) All the records for India.\n",
    "\n"
   ]
  },
  {
   "cell_type": "code",
   "execution_count": 101,
   "id": "a7f37a8e",
   "metadata": {},
   "outputs": [
    {
     "name": "stdout",
     "output_type": "stream",
     "text": [
      "('Mumbai', 'India', 'Winter', 24.8, 5.9)\n",
      "('Mumbai', 'India', 'Spring', 28.4, 16.2)\n",
      "('Mumbai', 'India', 'Summer', 27.9, 1549.4)\n",
      "('Mumbai', 'India', 'Fall', 27.6, 346.0)\n"
     ]
    }
   ],
   "source": [
    "cur.execute(\"SELECT * FROM temperature_data where Country='India'\")\n",
    "myresult = cur.fetchall()\n",
    "\n",
    "for x in myresult:\n",
    "    print(x)"
   ]
  },
  {
   "cell_type": "markdown",
   "id": "e14360b7",
   "metadata": {},
   "source": [
    "d) All the Fall records.\n",
    "\n"
   ]
  },
  {
   "cell_type": "code",
   "execution_count": 102,
   "id": "c23b074a",
   "metadata": {},
   "outputs": [
    {
     "name": "stdout",
     "output_type": "stream",
     "text": [
      "('Mumbai', 'India', 'Fall', 27.6, 346.0)\n",
      "('London', 'United Kingdom', 'Fall', 10.4, 218.5)\n",
      "('Cairo', 'Egypt', 'Fall', 22.2, 4.5)\n"
     ]
    }
   ],
   "source": [
    "cur.execute(\"SELECT * FROM temperature_data where Season='Fall'\")\n",
    "myresult = cur.fetchall()\n",
    "\n",
    "for x in myresult:\n",
    "    print(x)"
   ]
  },
  {
   "cell_type": "markdown",
   "id": "15bc65b7",
   "metadata": {},
   "source": [
    "e) The city, country, and season for which the average rainfall is between 200 \n",
    "and 400 millimeters.\n",
    "\n"
   ]
  },
  {
   "cell_type": "code",
   "execution_count": 103,
   "id": "08c9886e",
   "metadata": {},
   "outputs": [
    {
     "name": "stdout",
     "output_type": "stream",
     "text": [
      "('Mumbai', 'India', 'Fall')\n",
      "('London', 'United Kingdom', 'Winter')\n",
      "('London', 'United Kingdom', 'Fall')\n"
     ]
    }
   ],
   "source": [
    "cur.execute(\"SELECT City, Country, Season FROM temperature_data where Rainfall between 200 and 400\")\n",
    "myresult = cur.fetchall()\n",
    "\n",
    "for x in myresult:\n",
    "    print(x)"
   ]
  },
  {
   "cell_type": "markdown",
   "id": "92098479",
   "metadata": {},
   "source": [
    "f) The city and country for which the average Fall temperature is above 20 \n",
    "degrees, in increasing temperature order.\n"
   ]
  },
  {
   "cell_type": "code",
   "execution_count": 104,
   "id": "19c02a61",
   "metadata": {},
   "outputs": [
    {
     "name": "stdout",
     "output_type": "stream",
     "text": [
      "('Cairo', 'Egypt')\n",
      "('Mumbai', 'India')\n"
     ]
    }
   ],
   "source": [
    "cur.execute(\"SELECT City, Country FROM temperature_data where Season = 'Fall' and Temperature > 20 order by Temperature asc\")\n",
    "myresult = cur.fetchall()\n",
    "\n",
    "for x in myresult:\n",
    "    print(x)"
   ]
  },
  {
   "cell_type": "markdown",
   "id": "a46ec6e4",
   "metadata": {},
   "source": [
    "\n",
    "g) The total annual rainfall for Cairo.\n"
   ]
  },
  {
   "cell_type": "code",
   "execution_count": 105,
   "id": "a8c189f8",
   "metadata": {},
   "outputs": [
    {
     "name": "stdout",
     "output_type": "stream",
     "text": [
      "27.6\n"
     ]
    }
   ],
   "source": [
    "cur.execute(\"SELECT sum(Rainfall) FROM temperature_data where City = 'Cairo'\")\n",
    "myresult = cur.fetchall()\n",
    "\n",
    "for x in myresult:\n",
    "    print(x[0])"
   ]
  },
  {
   "cell_type": "markdown",
   "id": "d8783ddc",
   "metadata": {},
   "source": [
    "\n",
    "h) The total rainfall for each season."
   ]
  },
  {
   "cell_type": "code",
   "execution_count": 106,
   "id": "812e1ccd",
   "metadata": {},
   "outputs": [
    {
     "name": "stdout",
     "output_type": "stream",
     "text": [
      "('Fall', 569.0)\n",
      "('Spring', 192.29999999999998)\n",
      "('Summer', 1706.5)\n",
      "('Winter', 230.1)\n"
     ]
    }
   ],
   "source": [
    "cur.execute(\"SELECT Season, sum(Rainfall) FROM temperature_data group by Season\")\n",
    "myresult = cur.fetchall()\n",
    "\n",
    "for x in myresult:\n",
    "    print(x)"
   ]
  },
  {
   "cell_type": "code",
   "execution_count": 108,
   "id": "fa7baa05",
   "metadata": {},
   "outputs": [],
   "source": [
    "#close database file\n",
    "con.close()"
   ]
  },
  {
   "cell_type": "markdown",
   "id": "1ea03eca",
   "metadata": {},
   "source": [
    "# Question 9"
   ]
  },
  {
   "cell_type": "markdown",
   "id": "615dc6a6",
   "metadata": {},
   "source": [
    "Suppose list words is defined as follows:\n",
    "\n",
    "    >>> words = ['The', 'quick', 'brown', 'fox', 'jumps', 'over', 'the', 'lazy', 'dog']\n",
    "\n",
    "Write list comprehension expressions that use list words and generate the following \n",
    "lists:"
   ]
  },
  {
   "cell_type": "code",
   "execution_count": 57,
   "id": "cc4e6a9b",
   "metadata": {},
   "outputs": [],
   "source": [
    "words = ['The', 'quick', 'brown', 'fox', 'jumps', 'over', 'the', 'lazy', 'dog']"
   ]
  },
  {
   "cell_type": "markdown",
   "id": "4e831e30",
   "metadata": {},
   "source": [
    "a) ['THE', 'QUICK', 'BROWN', 'FOX', 'JUMPS', 'OVER', 'THE', 'LAZY', 'DOG']"
   ]
  },
  {
   "cell_type": "code",
   "execution_count": 66,
   "id": "5c0db10b",
   "metadata": {},
   "outputs": [
    {
     "name": "stdout",
     "output_type": "stream",
     "text": [
      "['THE', 'QUICK', 'BROWN', 'FOX', 'JUMPS', 'OVER', 'THE', 'LAZY', 'DOG']\n"
     ]
    }
   ],
   "source": [
    "uppercase_words = [word.upper() for word in words]\n",
    "print(uppercase_words) "
   ]
  },
  {
   "cell_type": "markdown",
   "id": "7721c2f3",
   "metadata": {},
   "source": [
    "b) ['the', 'quick', 'brown', 'fox', 'jumps', 'over', 'the', 'lazy', 'dog']"
   ]
  },
  {
   "cell_type": "code",
   "execution_count": 67,
   "id": "c598a49f",
   "metadata": {},
   "outputs": [
    {
     "name": "stdout",
     "output_type": "stream",
     "text": [
      "['the', 'quick', 'brown', 'fox', 'jumps', 'over', 'the', 'lazy', 'dog']\n"
     ]
    }
   ],
   "source": [
    "lowercase_words = [word.lower() for word in words]\n",
    "print(lowercase_words)"
   ]
  },
  {
   "cell_type": "markdown",
   "id": "a235c13e",
   "metadata": {},
   "source": [
    "c) [3, 5, 5, 3, 5, 4, 3, 4, 3] (the list of lengths of words in list words).\n",
    "\n"
   ]
  },
  {
   "cell_type": "code",
   "execution_count": 68,
   "id": "34db661c",
   "metadata": {},
   "outputs": [
    {
     "name": "stdout",
     "output_type": "stream",
     "text": [
      "[3, 5, 5, 3, 5, 4, 3, 4, 3]\n"
     ]
    }
   ],
   "source": [
    "word_lengths = [len(word) for word in words]\n",
    "print(word_lengths)"
   ]
  },
  {
   "cell_type": "markdown",
   "id": "20055dc8",
   "metadata": {},
   "source": [
    "d) [['THE', 'the', 3], ['QUICK', 'quick', 5], ['BROWN','brown', 5], ['FOX', 'fox', 3], ['JUMPS', 'jumps', 5],['OVER', 'over', 4], ['THE', 'the', 3], ['LAZY', 'lazy',4], ['DOG', 'dog', 3]] (the list containing a list for every word of list words, where each list contains the word in uppercase and lowercase and the length of the word.)"
   ]
  },
  {
   "cell_type": "code",
   "execution_count": 71,
   "id": "d93c06ab",
   "metadata": {},
   "outputs": [
    {
     "name": "stdout",
     "output_type": "stream",
     "text": [
      "[['THE', 'the', 3], ['QUICK', 'quick', 5], ['BROWN', 'brown', 5], ['FOX', 'fox', 3], ['JUMPS', 'jumps', 5], ['OVER', 'over', 4], ['THE', 'the', 3], ['LAZY', 'lazy', 4], ['DOG', 'dog', 3]]\n"
     ]
    }
   ],
   "source": [
    "upper_lower_length_list = [[word.upper(), word.lower(), len(word)] for word in words]\n",
    "print(upper_lower_length_list) "
   ]
  },
  {
   "cell_type": "markdown",
   "id": "a5864988",
   "metadata": {},
   "source": [
    "e) ['The', 'quick', 'brown', 'fox', 'jumps', 'over', 'the', 'lazy', 'dog'] (the list of words in list words containing 4 or more characters.)\n"
   ]
  },
  {
   "cell_type": "code",
   "execution_count": 72,
   "id": "53e1e966",
   "metadata": {},
   "outputs": [
    {
     "name": "stdout",
     "output_type": "stream",
     "text": [
      "['quick', 'brown', 'jumps', 'over', 'lazy']\n"
     ]
    }
   ],
   "source": [
    "result_list = [word for word in words if len(word) >= 4]\n",
    "print(result_list) "
   ]
  }
 ],
 "metadata": {
  "kernelspec": {
   "display_name": "Python 3 (ipykernel)",
   "language": "python",
   "name": "python3"
  },
  "language_info": {
   "codemirror_mode": {
    "name": "ipython",
    "version": 3
   },
   "file_extension": ".py",
   "mimetype": "text/x-python",
   "name": "python",
   "nbconvert_exporter": "python",
   "pygments_lexer": "ipython3",
   "version": "3.11.4"
  }
 },
 "nbformat": 4,
 "nbformat_minor": 5
}
